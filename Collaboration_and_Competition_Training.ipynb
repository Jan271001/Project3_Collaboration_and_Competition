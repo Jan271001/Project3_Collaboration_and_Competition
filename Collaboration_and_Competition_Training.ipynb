{
 "cells": [
  {
   "cell_type": "markdown",
   "metadata": {},
   "source": [
    "# Collaboration and Competition\n",
    "\n",
    "---\n",
    "\n",
    "In this notebook, you will learn how to use the Unity ML-Agents environment for the third project of the [Deep Reinforcement Learning Nanodegree](https://www.udacity.com/course/deep-reinforcement-learning-nanodegree--nd893) program.\n",
    "\n",
    "### 1. Start the Environment\n",
    "\n",
    "We begin by importing the necessary packages.  If the code cell below returns an error, please revisit the project instructions to double-check that you have installed [Unity ML-Agents](https://github.com/Unity-Technologies/ml-agents/blob/master/docs/Installation.md) and [NumPy](http://www.numpy.org/)."
   ]
  },
  {
   "cell_type": "code",
   "execution_count": 1,
   "metadata": {},
   "outputs": [],
   "source": [
    "from unityagents import UnityEnvironment\n",
    "import numpy as np\n",
    "import torch\n",
    "from agent import Agent\n",
    "from collections import deque\n",
    "import time\n",
    "import matplotlib.pyplot as plt\n",
    "%matplotlib inline"
   ]
  },
  {
   "cell_type": "markdown",
   "metadata": {},
   "source": [
    "Next, we will start the environment!  **_Before running the code cell below_**, change the `file_name` parameter to match the location of the Unity environment that you downloaded.\n",
    "\n",
    "- **Mac**: `\"path/to/Tennis.app\"`\n",
    "- **Windows** (x86): `\"path/to/Tennis_Windows_x86/Tennis.exe\"`\n",
    "- **Windows** (x86_64): `\"path/to/Tennis_Windows_x86_64/Tennis.exe\"`\n",
    "- **Linux** (x86): `\"path/to/Tennis_Linux/Tennis.x86\"`\n",
    "- **Linux** (x86_64): `\"path/to/Tennis_Linux/Tennis.x86_64\"`\n",
    "- **Linux** (x86, headless): `\"path/to/Tennis_Linux_NoVis/Tennis.x86\"`\n",
    "- **Linux** (x86_64, headless): `\"path/to/Tennis_Linux_NoVis/Tennis.x86_64\"`\n",
    "\n",
    "For instance, if you are using a Mac, then you downloaded `Tennis.app`.  If this file is in the same folder as the notebook, then the line below should appear as follows:\n",
    "```\n",
    "env = UnityEnvironment(file_name=\"Tennis.app\")\n",
    "```"
   ]
  },
  {
   "cell_type": "code",
   "execution_count": 2,
   "metadata": {},
   "outputs": [
    {
     "name": "stderr",
     "output_type": "stream",
     "text": [
      "INFO:unityagents:\n",
      "'Academy' started successfully!\n",
      "Unity Academy name: Academy\n",
      "        Number of Brains: 1\n",
      "        Number of External Brains : 1\n",
      "        Lesson number : 0\n",
      "        Reset Parameters :\n",
      "\t\t\n",
      "Unity brain name: TennisBrain\n",
      "        Number of Visual Observations (per agent): 0\n",
      "        Vector Observation space type: continuous\n",
      "        Vector Observation space size (per agent): 8\n",
      "        Number of stacked Vector Observation: 3\n",
      "        Vector Action space type: continuous\n",
      "        Vector Action space size (per agent): 2\n",
      "        Vector Action descriptions: , \n"
     ]
    }
   ],
   "source": [
    "env = UnityEnvironment(file_name=\"Tennis_Linux/Tennis.x86_64\")"
   ]
  },
  {
   "cell_type": "markdown",
   "metadata": {},
   "source": [
    "Environments contain **_brains_** which are responsible for deciding the actions of their associated agents. Here we check for the first brain available, and set it as the default brain we will be controlling from Python."
   ]
  },
  {
   "cell_type": "code",
   "execution_count": 3,
   "metadata": {},
   "outputs": [],
   "source": [
    "# get the default brain\n",
    "brain_name = env.brain_names[0]\n",
    "brain = env.brains[brain_name]"
   ]
  },
  {
   "cell_type": "markdown",
   "metadata": {},
   "source": [
    "### 2. Examine the State and Action Spaces\n",
    "\n",
    "In this environment, two agents control rackets to bounce a ball over a net. If an agent hits the ball over the net, it receives a reward of +0.1.  If an agent lets a ball hit the ground or hits the ball out of bounds, it receives a reward of -0.01.  Thus, the goal of each agent is to keep the ball in play.\n",
    "\n",
    "The observation space consists of 8 variables corresponding to the position and velocity of the ball and racket. Two continuous actions are available, corresponding to movement toward (or away from) the net, and jumping. \n",
    "\n",
    "Run the code cell below to print some information about the environment."
   ]
  },
  {
   "cell_type": "code",
   "execution_count": 4,
   "metadata": {},
   "outputs": [
    {
     "name": "stdout",
     "output_type": "stream",
     "text": [
      "Number of agents: 2\n",
      "Size of each action: 2\n",
      "There are 2 agents. Each observes a state with length: 24\n",
      "The state for the first agent looks like: [ 0.          0.          0.          0.          0.          0.\n",
      "  0.          0.          0.          0.          0.          0.\n",
      "  0.          0.          0.          0.         -6.65278625 -1.5\n",
      " -0.          0.          6.83172083  6.         -0.          0.        ]\n"
     ]
    }
   ],
   "source": [
    "# reset the environment\n",
    "env_info = env.reset(train_mode=True)[brain_name]\n",
    "\n",
    "# number of agents \n",
    "num_agents = len(env_info.agents)\n",
    "print('Number of agents:', num_agents)\n",
    "\n",
    "# size of each action\n",
    "action_size = brain.vector_action_space_size\n",
    "print('Size of each action:', action_size)\n",
    "\n",
    "# examine the state space \n",
    "states = env_info.vector_observations\n",
    "state_size = states.shape[1]\n",
    "print('There are {} agents. Each observes a state with length: {}'.format(states.shape[0], state_size))\n",
    "print('The state for the first agent looks like:', states[0])"
   ]
  },
  {
   "cell_type": "markdown",
   "metadata": {},
   "source": [
    "### 3. Take Random Actions in the Environment\n",
    "\n",
    "In the next code cell, you will learn how to use the Python API to control the agents and receive feedback from the environment.\n",
    "\n",
    "Once this cell is executed, you will watch the agents' performance, if they select actions at random with each time step.  A window should pop up that allows you to observe the agents.\n",
    "\n",
    "Of course, as part of the project, you'll have to change the code so that the agents are able to use their experiences to gradually choose better actions when interacting with the environment!"
   ]
  },
  {
   "cell_type": "code",
   "execution_count": 5,
   "metadata": {},
   "outputs": [
    {
     "name": "stdout",
     "output_type": "stream",
     "text": [
      "Episode: 100\tCurrent Score: 0.0\tMean over 10 episodes: 0.0\tMean over 100 episodes: 0.01589\n",
      "Episode: 200\tCurrent Score: 0.0\tMean over 10 episodes: 0.0\tMean over 100 episodes: 0.001\n",
      "Episode: 300\tCurrent Score: 0.0\tMean over 10 episodes: 0.0\tMean over 100 episodes: 0.028288\n",
      "Episode: 400\tCurrent Score: 0.0\tMean over 10 episodes: 0.0\tMean over 100 episodes: 0.001\n",
      "Episode: 500\tCurrent Score: 0.0\tMean over 10 episodes: 0.0\tMean over 100 episodes: 0.0\n",
      "Episode: 600\tCurrent Score: 0.0\tMean over 10 episodes: 0.0\tMean over 100 episodes: 0.003033\n",
      "Episode: 700\tCurrent Score: 0.0\tMean over 10 episodes: 0.0\tMean over 100 episodes: 0.017177\n",
      "Episode: 800\tCurrent Score: 0.0\tMean over 10 episodes: 0.02\tMean over 100 episodes: 0.04974\n",
      "Episode: 900\tCurrent Score: 0.1\tMean over 10 episodes: 0.09\tMean over 100 episodes: 0.047\n",
      "Episode: 1000\tCurrent Score: 0.1\tMean over 10 episodes: 0.08\tMean over 100 episodes: 0.1297\n",
      "Episode: 1100\tCurrent Score: 0.0\tMean over 10 episodes: 0.0\tMean over 100 episodes: 0.017776\n",
      "Episode: 1200\tCurrent Score: 0.09\tMean over 10 episodes: 0.085\tMean over 100 episodes: 0.042\n",
      "Episode: 1300\tCurrent Score: 0.1\tMean over 10 episodes: 0.077\tMean over 100 episodes: 0.0843\n",
      "Environment solved in 1375 episodes. Max score: 0.5 for the last 100 episodesisodes: 0.58688\n"
     ]
    },
    {
     "data": {
      "image/png": "[encoded data removed]",
      "text/plain": [
       "<Figure size 432x288 with 1 Axes>"
      ]
     },
     "metadata": {
      "needs_background": "light"
     },
     "output_type": "display_data"
    }
   ],
   "source": [
    "min_noise = 0.1\n",
    "noise_decay = 0.999\n",
    "noise_factor = 1.0\n",
    "random_seed = 1\n",
    "random_episodes = 100\n",
    "max_episodes = 5000\n",
    "max_t = 10000\n",
    "\n",
    "#variable to safe the best net\n",
    "current_best = 0\n",
    "#boolean to show if task is fullfilled\n",
    "ready = False\n",
    "\n",
    "# create a new agent\n",
    "agent = Agent(state_size = state_size, action_size=action_size, random_seed=random_seed)\n",
    "\n",
    "def maddpg(n_episodes, max_t):\n",
    "    scores_window = deque(maxlen=100)\n",
    "    scores = []\n",
    "    means = []\n",
    "    noise_f = noise_factor\n",
    "    for episode in range(1, n_episodes+1):\n",
    "        env_info = env.reset(train_mode=True)[brain_name]\n",
    "        #get the current states\n",
    "        states = env_info.vector_observations\n",
    "        #initialize score for one episode\n",
    "        e_scores = np.zeros(2)\n",
    "        #reset the agent\n",
    "        agent.reset()\n",
    "        #set the timestep\n",
    "        timestep=0\n",
    "        for t in range(max_t):\n",
    "            #use random actions the first few episodes to collect some information about the environment\n",
    "            if episode < random_episodes:\n",
    "                actions = np.random.randn(2, 2)\n",
    "            #select actions according to the agents networks\n",
    "            else:\n",
    "                actions = agent.act(states, noise_factor=noise_f)\n",
    "            actions_second_player = np.flip(actions, 0)\n",
    "            #execute the actions\n",
    "            env_info = env.step(actions)[brain_name] \n",
    "            #get the next_states, rewards and informations if episode has finished\n",
    "            rewards = env_info.rewards\n",
    "            next_states = env_info.vector_observations\n",
    "            next_states_second_player = np.flip(next_states, 0)\n",
    "            dones = env_info.local_done\n",
    "            #take a step\n",
    "            agent.step(states, actions, actions_second_player, rewards, next_states, next_states_second_player, dones, timestep)\n",
    "            #roll over the states\n",
    "            states = next_states\n",
    "            #add the reward to the score\n",
    "            e_scores += rewards\n",
    "            #count the timestep\n",
    "            timestep+=1\n",
    "            if np.any(dones):\n",
    "                break\n",
    "        #get the maximum score of both agents\n",
    "        max_score = np.max(e_scores)\n",
    "        scores_window.append(max_score)\n",
    "        scores.append(max_score)\n",
    "        means.append(np.mean(scores_window))\n",
    "        #reduce the noise\n",
    "        noise_f = max(noise_decay * noise_f, min_noise)\n",
    "        print(\"Episode: \" + str(episode) + \"\\tCurrent Score: \" + str(round(max_score,3)) + \n",
    "              \"\\tMean over 10 episodes: \" + str(round(np.mean(list(scores_window)[-10:]),3)) +\n",
    "              \"\\tMean over 100 episodes: \" + str(round(np.mean(scores_window),3)), end = \"\\r\")\n",
    "        global current_best\n",
    "        global ready\n",
    "        if episode > 100 and np.mean(scores_window) > current_best:\n",
    "            torch.save(agent.actor_local.state_dict(), 'Weights/checkpoint_Actor.pth')\n",
    "            torch.save(agent.critic_local.state_dict(), 'Weights/checkpoint_Critic.pth')\n",
    "            current_best = np.mean(scores_window)\n",
    "            if np.mean(scores_window) >= 0.5 and ready == False:\n",
    "                print(\"Environment solved in \" + str(episode) + \" episodes. Max score: \" +\n",
    "                      str(round(np.mean(scores_window),3)) + \" for the last 100 episodes\")\n",
    "                ready = True\n",
    "                break;\n",
    "        if episode % 100 == 0:\n",
    "            print(\"Episode: \" + str(episode) + \"\\tCurrent Score: \" + str(round(max_score,3)) + \n",
    "              \"\\tMean over 10 episodes: \" + str(round(np.mean(list(scores_window)[-10:]),3)) +\n",
    "              \"\\tMean over 100 episodes: \" + str(round(np.mean(scores_window),3)))\n",
    "            \n",
    "    return scores, means\n",
    "\n",
    "scores, means = maddpg(max_episodes, max_t)\n",
    "\n",
    "episode_scores = []\n",
    "for record in scores:\n",
    "    episode_scores.append(np.mean(record))\n",
    "\n",
    "#plot the scores\n",
    "fig = plt.figure()\n",
    "ax = fig.add_subplot(111)\n",
    "plt.plot(np.arange(len(episode_scores)), episode_scores, label = \"score\")\n",
    "plt.plot(np.arange(len(means)), means, label = \"mean\")\n",
    "plt.axhline(y=0.5, color='r', linestyle='--', label=\"target\")\n",
    "plt.ylabel('Score')\n",
    "plt.xlabel('Episode')\n",
    "plt.legend()\n",
    "plt.show()"
   ]
  },
  {
   "cell_type": "markdown",
   "metadata": {},
   "source": [
    "When finished, you can close the environment."
   ]
  },
  {
   "cell_type": "code",
   "execution_count": 6,
   "metadata": {},
   "outputs": [],
   "source": [
    "env.close()"
   ]
  },
  {
   "cell_type": "markdown",
   "metadata": {},
   "source": [
    "### 4. It's Your Turn!\n",
    "\n",
    "Now it's your turn to train your own agent to solve the environment!  When training the environment, set `train_mode=True`, so that the line for resetting the environment looks like the following:\n",
    "```python\n",
    "env_info = env.reset(train_mode=True)[brain_name]\n",
    "```"
   ]
  }
 ],
 "metadata": {
  "kernelspec": {
   "display_name": "Python 3",
   "language": "python",
   "name": "python3"
  },
  "language_info": {
   "codemirror_mode": {
    "name": "ipython",
    "version": 3
   },
   "file_extension": ".py",
   "mimetype": "text/x-python",
   "name": "python",
   "nbconvert_exporter": "python",
   "pygments_lexer": "ipython3",
   "version": "3.6.13"
  }
 },
 "nbformat": 4,
 "nbformat_minor": 2
}
