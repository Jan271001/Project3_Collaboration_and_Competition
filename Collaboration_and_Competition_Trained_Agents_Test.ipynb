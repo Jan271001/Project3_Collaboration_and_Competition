{
 "cells": [
  {
   "cell_type": "code",
   "execution_count": 1,
   "id": "629b4972",
   "metadata": {},
   "outputs": [],
   "source": [
    "from unityagents import UnityEnvironment\n",
    "import numpy as np\n",
    "import torch\n",
    "from agent import Agent\n",
    "from collections import deque\n",
    "import time\n",
    "import matplotlib.pyplot as plt\n",
    "%matplotlib inline"
   ]
  },
  {
   "cell_type": "code",
   "execution_count": 2,
   "id": "acc99bee",
   "metadata": {},
   "outputs": [
    {
     "name": "stderr",
     "output_type": "stream",
     "text": [
      "INFO:unityagents:\n",
      "'Academy' started successfully!\n",
      "Unity Academy name: Academy\n",
      "        Number of Brains: 1\n",
      "        Number of External Brains : 1\n",
      "        Lesson number : 0\n",
      "        Reset Parameters :\n",
      "\t\t\n",
      "Unity brain name: TennisBrain\n",
      "        Number of Visual Observations (per agent): 0\n",
      "        Vector Observation space type: continuous\n",
      "        Vector Observation space size (per agent): 8\n",
      "        Number of stacked Vector Observation: 3\n",
      "        Vector Action space type: continuous\n",
      "        Vector Action space size (per agent): 2\n",
      "        Vector Action descriptions: , \n"
     ]
    }
   ],
   "source": [
    "env = UnityEnvironment(file_name=\"Tennis_Linux/Tennis.x86_64\")"
   ]
  },
  {
   "cell_type": "code",
   "execution_count": 3,
   "id": "267f7044",
   "metadata": {},
   "outputs": [],
   "source": [
    "# get the default brain\n",
    "brain_name = env.brain_names[0]\n",
    "brain = env.brains[brain_name]"
   ]
  },
  {
   "cell_type": "code",
   "execution_count": 4,
   "id": "957b724b",
   "metadata": {},
   "outputs": [
    {
     "name": "stdout",
     "output_type": "stream",
     "text": [
      "Number of agents: 2\n",
      "Size of each action: 2\n",
      "There are 2 agents. Each observes a state with length: 24\n",
      "The state for the first agent looks like: [ 0.          0.          0.          0.          0.          0.\n",
      "  0.          0.          0.          0.          0.          0.\n",
      "  0.          0.          0.          0.         -6.65278625 -1.5\n",
      " -0.          0.          6.83172083  6.         -0.          0.        ]\n"
     ]
    }
   ],
   "source": [
    "# reset the environment\n",
    "env_info = env.reset(train_mode=True)[brain_name]\n",
    "\n",
    "# number of agents \n",
    "num_agents = len(env_info.agents)\n",
    "print('Number of agents:', num_agents)\n",
    "\n",
    "# size of each action\n",
    "action_size = brain.vector_action_space_size\n",
    "print('Size of each action:', action_size)\n",
    "\n",
    "# examine the state space \n",
    "states = env_info.vector_observations\n",
    "state_size = states.shape[1]\n",
    "print('There are {} agents. Each observes a state with length: {}'.format(states.shape[0], state_size))\n",
    "print('The state for the first agent looks like:', states[0])"
   ]
  },
  {
   "cell_type": "code",
   "execution_count": 5,
   "id": "37598952",
   "metadata": {},
   "outputs": [],
   "source": [
    "# get the trained agents\n",
    "agent = Agent(state_size = state_size, action_size=action_size, random_seed=1)\n",
    "agent.actor_local.load_state_dict(torch.load('Weights/checkpoint_Actor.pth', map_location=lambda storage, loc: storage))\n",
    "agent.critic_local.load_state_dict(torch.load('Weights/checkpoint_Critic.pth', map_location=lambda storage, loc: storage))"
   ]
  },
  {
   "cell_type": "code",
   "execution_count": 6,
   "id": "a39d6839",
   "metadata": {},
   "outputs": [
    {
     "name": "stdout",
     "output_type": "stream",
     "text": [
      "Episode: 10\tCurrent Score: 0.8\tMean over 10 episodes: 0.45\r"
     ]
    },
    {
     "data": {
      "image/png": "[encoded data removed]",
      "text/plain": [
       "<Figure size 432x288 with 1 Axes>"
      ]
     },
     "metadata": {
      "needs_background": "light"
     },
     "output_type": "display_data"
    }
   ],
   "source": [
    "#use trained agent\n",
    "def maddpg(n_episodes = 10, max_t = 1000):\n",
    "    scores = []\n",
    "    means = []\n",
    "    for episode in range(1, n_episodes+1):\n",
    "        env_info = env.reset(train_mode=False)[brain_name]\n",
    "        #get the current states\n",
    "        states = env_info.vector_observations\n",
    "        #initialize score for one episode\n",
    "        e_scores = np.zeros(2)\n",
    "        #reset the agent\n",
    "        agent.reset()\n",
    "        for t in range(max_t):\n",
    "            print(str(t) , end =\"\\r\")\n",
    "            actions = agent.act(states, noise_factor=0)\n",
    "            actions_second_player = np.flip(actions, 0)\n",
    "            #execute the actions\n",
    "            env_info = env.step(actions)[brain_name] \n",
    "            #get the next_states, rewards and informations if episode has finished\n",
    "            rewards = env_info.rewards\n",
    "            next_states = env_info.vector_observations\n",
    "            next_states_second_player = np.flip(next_states, 0)\n",
    "            dones = env_info.local_done\n",
    "            #roll over the state\n",
    "            states = next_states\n",
    "            #add the reward to the score\n",
    "            e_scores += rewards\n",
    "            if np.any(dones):\n",
    "                break\n",
    "        #get the maximum score of both agents\n",
    "        max_score = np.max(e_scores)\n",
    "        scores.append(max_score)\n",
    "        means.append(np.mean(scores))\n",
    "        print(\"Episode: \" + str(episode) + \"\\tCurrent Score: \" + str(round(max_score,3)) + \n",
    "              \"\\tMean over 10 episodes: \" + str(round(np.mean(scores),3)), end = \"\\r\")\n",
    "            \n",
    "    return scores, means\n",
    "\n",
    "scores, means = maddpg()\n",
    "\n",
    "episode_scores = []\n",
    "for record in scores:\n",
    "    episode_scores.append(np.mean(record))\n",
    "\n",
    "#plot the scores\n",
    "fig = plt.figure()\n",
    "ax = fig.add_subplot(111)\n",
    "plt.plot(np.arange(len(episode_scores)), episode_scores, label = \"score\")\n",
    "plt.plot(np.arange(len(means)), means, label = \"mean\")\n",
    "plt.axhline(y=0.5, color='r', linestyle='--', label=\"target\")\n",
    "plt.ylabel('Score')\n",
    "plt.xlabel('Episode')\n",
    "plt.legend()\n",
    "plt.show()"
   ]
  },
  {
   "cell_type": "code",
   "execution_count": 7,
   "id": "3391eed5",
   "metadata": {},
   "outputs": [],
   "source": [
    "env.close()"
   ]
  }
 ],
 "metadata": {
  "kernelspec": {
   "display_name": "drlnd",
   "language": "python",
   "name": "drlnd"
  },
  "language_info": {
   "codemirror_mode": {
    "name": "ipython",
    "version": 3
   },
   "file_extension": ".py",
   "mimetype": "text/x-python",
   "name": "python",
   "nbconvert_exporter": "python",
   "pygments_lexer": "ipython3",
   "version": "3.6.13"
  }
 },
 "nbformat": 4,
 "nbformat_minor": 5
}
