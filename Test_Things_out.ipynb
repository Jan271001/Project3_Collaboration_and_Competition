{
 "cells": [
  {
   "cell_type": "code",
   "execution_count": 1,
   "id": "320196f2",
   "metadata": {},
   "outputs": [
    {
     "name": "stdout",
     "output_type": "stream",
     "text": [
      "[0. 0. 0. 0. 0. 0.]\n",
      "[[0. 0.]\n",
      " [0. 0.]\n",
      " [0. 0.]]\n"
     ]
    }
   ],
   "source": [
    "import numpy as np\n",
    "\n",
    "actions = np.zeros(6)\n",
    "print(actions)\n",
    "actions = np.reshape(actions,(3,2))\n",
    "print(actions)\n"
   ]
  },
  {
   "cell_type": "code",
   "execution_count": 2,
   "id": "825f90cb",
   "metadata": {},
   "outputs": [
    {
     "name": "stdout",
     "output_type": "stream",
     "text": [
      "[0. 0. 0. 0. 0. 0.]\n"
     ]
    }
   ],
   "source": [
    "actions = np.reshape(actions,(1,6))[0]\n",
    "print(actions)"
   ]
  },
  {
   "cell_type": "code",
   "execution_count": 3,
   "id": "5e9370d6",
   "metadata": {},
   "outputs": [
    {
     "name": "stdout",
     "output_type": "stream",
     "text": [
      "[0. 0.]\n"
     ]
    }
   ],
   "source": [
    "print(np.zeros(2))"
   ]
  },
  {
   "cell_type": "code",
   "execution_count": 4,
   "id": "89d78ae6",
   "metadata": {},
   "outputs": [
    {
     "name": "stdout",
     "output_type": "stream",
     "text": [
      "[1 2 3 4 5]\n",
      "[5 4 3 2 1]\n"
     ]
    }
   ],
   "source": [
    "a = np.array([1,2,3,4,5])\n",
    "print(a)\n",
    "a = np.flip(a,0)\n",
    "print(a)"
   ]
  },
  {
   "cell_type": "code",
   "execution_count": 5,
   "id": "52d07ba1",
   "metadata": {},
   "outputs": [
    {
     "name": "stdout",
     "output_type": "stream",
     "text": [
      "[[2.55564504 1.04173177]\n",
      " [1.11345605 0.72528167]]\n",
      "[[1.11345605 0.72528167]\n",
      " [2.55564504 1.04173177]]\n"
     ]
    }
   ],
   "source": [
    "a = np.random.randn(2, 2)\n",
    "print(a)\n",
    "a = np.flip(a,0)\n",
    "print(a)"
   ]
  },
  {
   "cell_type": "code",
   "execution_count": 11,
   "id": "5f085f45",
   "metadata": {},
   "outputs": [
    {
     "name": "stdout",
     "output_type": "stream",
     "text": [
      "\u001b[F0\n",
      "\u001b[F1\n",
      "\u001b[F2\u001b[F1\n",
      "\u001b[F2\n",
      "\u001b[F3\u001b[F2\n",
      "\u001b[F3\n",
      "\u001b[F4\u001b[F3\n",
      "\u001b[F4\n",
      "\u001b[F5\u001b[F4\n",
      "\u001b[F5\n",
      "\u001b[F6\u001b[F5\n",
      "\u001b[F6\n",
      "\u001b[F7\u001b[F6\n",
      "\u001b[F7\n",
      "\u001b[F8\u001b[F7\n",
      "\u001b[F8\n",
      "\u001b[F9\u001b[F8\n",
      "\u001b[F9\n",
      "\u001b[F10\u001b[F9\n",
      "\u001b[F10\n",
      "\u001b[F11"
     ]
    }
   ],
   "source": [
    "import time\n",
    "for i in range(10):\n",
    "    time.sleep(1)\n",
    "    print(\"\\033[F\" + str(i) + \"\\n\" + \"\\033[F\"+ str(i+1) + \"\\n\" + \"\\033[F\"+ str(i+2), end = \"\" , flush = True)\n",
    "    #print('\\rEpisode {:d}\\tmax score: {:.2f}\\taverage maximum score over the last 10 episodes: {:.2f}'.format(i, i+1, i, end=\"\"))"
   ]
  },
  {
   "cell_type": "code",
   "execution_count": null,
   "id": "27728f6f",
   "metadata": {},
   "outputs": [],
   "source": []
  }
 ],
 "metadata": {
  "kernelspec": {
   "display_name": "drlnd",
   "language": "python",
   "name": "drlnd"
  },
  "language_info": {
   "codemirror_mode": {
    "name": "ipython",
    "version": 3
   },
   "file_extension": ".py",
   "mimetype": "text/x-python",
   "name": "python",
   "nbconvert_exporter": "python",
   "pygments_lexer": "ipython3",
   "version": "3.6.13"
  }
 },
 "nbformat": 4,
 "nbformat_minor": 5
}
